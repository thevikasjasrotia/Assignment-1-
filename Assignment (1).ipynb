{
  "nbformat": 4,
  "nbformat_minor": 0,
  "metadata": {
    "colab": {
      "provenance": []
    },
    "kernelspec": {
      "name": "python3",
      "display_name": "Python 3"
    },
    "language_info": {
      "name": "python"
    }
  },
  "cells": [
    {
      "cell_type": "code",
      "execution_count": null,
      "metadata": {
        "id": "043mbuopZuQd"
      },
      "outputs": [],
      "source": []
    },
    {
      "cell_type": "code",
      "source": [
        "What is the difference between a function and a method in Python?\n",
        "\n",
        "Function\n",
        "A function is a piece of code that is called by name. It can be passed data to operate on and can optionally return data\n",
        "All data that is passed to a function is explicitly passed.\n",
        "eg def fun(a,b):\n",
        "      return a+b\n",
        "   fun(1,2)\n",
        "\n",
        "Method\n",
        "A method is a piece of code that is called by name that is associated with an object.\n",
        "A method is implicitly passed data to operate on by the object on which it was called.\n",
        "eg class Calculator:\n",
        "     def add(self, a, b):\n",
        "        return a + b\n",
        "\n",
        "   calc = Calculator()\n",
        "   print(calc.add(2, 3))\n"
      ],
      "metadata": {
        "id": "xBVR9xZc7Hzx"
      },
      "execution_count": null,
      "outputs": []
    },
    {
      "cell_type": "code",
      "source": [
        "Explain the concept of function arguments and parameters in Python.\n",
        "\n",
        "Parameters: These are variables listed in the function definition.\n",
        "            They act as placeholders for the values the function will receive.\n",
        "            def greet(name):\n",
        "               return f\"Hello,{name}\"\n",
        "\n",
        "Arguments: These are the actual values you pass to the function when calling it.\n",
        "           def add(a, b):\n",
        "             return a+b\n",
        "\n",
        "           print(add(2, 3))"
      ],
      "metadata": {
        "id": "a8DIPWAZ6A5P"
      },
      "execution_count": null,
      "outputs": []
    },
    {
      "cell_type": "code",
      "source": [
        "What are the different ways to define and call a function in Python?\n",
        "By using the def keyword with the function name and parameters we can define a function.\n",
        "Call\n",
        "To call a function Use the function name with arguments\n",
        "\n",
        "def fun(a,b): # defining a function\n",
        "  return a*b\n",
        "fun(a=2,b=4) # calling the function"
      ],
      "metadata": {
        "id": "X046vpj722ed"
      },
      "execution_count": null,
      "outputs": []
    },
    {
      "cell_type": "code",
      "source": [
        "What is the purpose of the `return` statement in a Python function?\n",
        "A return statement is used to end the execution of the function call and “returns” the result to the caller.\n",
        "The statements after the return statements are not executed.\n",
        "If a value is provided with the return statement, it represents the functions output"
      ],
      "metadata": {
        "id": "ORfTxCtu22jP"
      },
      "execution_count": null,
      "outputs": []
    },
    {
      "cell_type": "code",
      "source": [
        " What are iterators in Python and how do they differ from iterables?\n",
        "\n",
        "Iterable:\n",
        "An object that contains a collection of values and can be looped through.\n",
        "Examples: Lists, tuples, strings, dictionaries, and sets.\n",
        "my_list = [1, 2, 3]\n",
        "for item in my_list:\n",
        "    print(item)\n",
        "\n",
        "Iterator:\n",
        "An object that produces the next value in a sequence, one at a time.\n",
        "my_list = [1, 2, 3]\n",
        "my_iter = iter(my_list)  # Create an iterator from an iterable\n",
        "\n",
        "print(next(my_iter))  # Output: 1\n",
        "print(next(my_iter))  # Output: 2"
      ],
      "metadata": {
        "id": "u7XdKZHe22lE"
      },
      "execution_count": null,
      "outputs": []
    },
    {
      "cell_type": "code",
      "source": [
        "What is a lambda function in Python and when is it typically used?\n",
        "A lambda function is a function in Python defined using the lambda keyword.\n",
        "It is typically used for short, simple operations where defining a full function might be unnecessary.\n",
        "\n",
        "square_lambda = lambda x: x ** 2\n",
        "print(square_lambda(4))\n",
        "\n"
      ],
      "metadata": {
        "id": "31WVvPOY22mz"
      },
      "execution_count": null,
      "outputs": []
    },
    {
      "cell_type": "code",
      "source": [
        "Explain the purpose and usage of the `map()` function in Python.\n",
        "The map function in Python is used to apply a function to each item in an iterable (like a list, tuple, etc.) and return a map object with the results.\n",
        "It is commonly used for transforming or modifying elements in an iterable without the need for explicit loops.\n",
        "numbers = [1, 2, 3, 4, 5]\n",
        "squared_numbers = map(lambda x: x ** 2, numbers)\n",
        "\n",
        "# Convert to a list and print the result\n",
        "print(list(squared_numbers))"
      ],
      "metadata": {
        "id": "9WOuSefL22om"
      },
      "execution_count": null,
      "outputs": []
    },
    {
      "cell_type": "code",
      "source": [
        " What is the difference between `map()`, `reduce()`, and `filter()` functions in Python?\n",
        "\n",
        "filter\n",
        "Filters elements from an iterable based on a condition defined by a function, returning only those elements for which the function evaluates to True.\n",
        "\n",
        "numbers = [1, 2, 3, 4]\n",
        "evens = filter(lambda x: x % 2 == 0, numbers)\n",
        "print(list(evens))\n",
        "\n",
        "map\n",
        "Applies a given function to each item in an iterable (e.g., list, tuple) and returns a new iterable with the transformed values.\n",
        "\n",
        "numbers = [1, 2, 3, 4]\n",
        "squares = map(lambda x: x**2, numbers)\n",
        "print(list(squares))  # Output: [1, 4, 9, 16]\n",
        "\n",
        "reduce\n",
        "Applies a function cumulatively to the items of an iterable, reducing it to a single value.\n",
        "Gives a single result.\n",
        "\n",
        "from functools import reduce\n",
        "numbers = [1, 2, 3, 4]\n",
        "product = reduce(lambda x, y: x * y, numbers)\n",
        "print(product)"
      ],
      "metadata": {
        "id": "q54CnedY22qa"
      },
      "execution_count": null,
      "outputs": []
    },
    {
      "cell_type": "code",
      "source": [
        "Explain the concept of generators in Python and how they are defined.\n",
        "A Generator in Python is a function that returns an iterator using the Yield keyword.\n",
        "Explain the concept of generators in Python and how they are defined.\n",
        "They don’t store all values in memory; they generate them dynamically.\n",
        "example\n",
        "def simple_generator():\n",
        "    yield 1\n",
        "    yield 2\n",
        "    yield 3\n",
        "\n",
        "gen = simple_generator()\n",
        "\n",
        "print(next(gen))\n",
        "print(next(gen))\n",
        "print(next(gen))\n",
        "\n"
      ],
      "metadata": {
        "id": "tDBrC4Yl22ub"
      },
      "execution_count": null,
      "outputs": []
    },
    {
      "cell_type": "code",
      "source": [
        "What are the advantages of using generators over regular functions?\n",
        "\n",
        "Memory Efficiency\n",
        "Generators yield values one at a time, avoiding the need to store entire datasets in memory.\n",
        "Ideal for handling large datasets or streams of data.\n",
        "\n",
        "Support for Infinite Sequences\n",
        "\n",
        "Generators can produce infinite sequences without exhausting memory.\n",
        "Regular functions cannot handle such scenarios.\n",
        "\n",
        "Values are produced on-demand, computing only what is needed.\n",
        "Reduces unnecessary computations and memory usage."
      ],
      "metadata": {
        "id": "mJmJxoyH22xR"
      },
      "execution_count": null,
      "outputs": []
    },
    {
      "cell_type": "code",
      "source": [],
      "metadata": {
        "id": "EIQPJE6N23BK"
      },
      "execution_count": null,
      "outputs": []
    },
    {
      "cell_type": "markdown",
      "source": [],
      "metadata": {
        "id": "a0tPoEkz24RG"
      }
    },
    {
      "cell_type": "markdown",
      "source": [
        " 1. Write a Python function that takes a list of numbers as input and returns the sum of all even numbers in\n",
        "the list.\n"
      ],
      "metadata": {
        "id": "4fle879daXK8"
      }
    },
    {
      "cell_type": "code",
      "source": [
        "def sum_even(a):\n",
        "  sum=0\n",
        "  for i in a:\n",
        "    if i%2==0:\n",
        "      sum=sum+i\n",
        "  return sum\n",
        "sum_even([1,2,44,56,3,6,7])"
      ],
      "metadata": {
        "colab": {
          "base_uri": "https://localhost:8080/"
        },
        "id": "mw75t1afaZLx",
        "outputId": "d46a55ab-8c3a-4811-be01-e968bf6966c0"
      },
      "execution_count": null,
      "outputs": [
        {
          "output_type": "execute_result",
          "data": {
            "text/plain": [
              "108"
            ]
          },
          "metadata": {},
          "execution_count": 11
        }
      ]
    },
    {
      "cell_type": "code",
      "source": [],
      "metadata": {
        "id": "fT0u6gJDaZOt"
      },
      "execution_count": null,
      "outputs": []
    },
    {
      "cell_type": "markdown",
      "source": [
        "2. Create a Python function that accepts a string and returns the reverse of that string."
      ],
      "metadata": {
        "id": "iXZecCJAc58i"
      }
    },
    {
      "cell_type": "code",
      "source": [
        "def str():\n",
        "  a=input(\"enter a string\")\n",
        "  return a[::-1]\n",
        "str()"
      ],
      "metadata": {
        "colab": {
          "base_uri": "https://localhost:8080/",
          "height": 53
        },
        "id": "hddQI3R1aZQg",
        "outputId": "aca7bc8c-b7ab-4ee8-d40f-8039933a9894"
      },
      "execution_count": null,
      "outputs": [
        {
          "name": "stdout",
          "output_type": "stream",
          "text": [
            "enter a stringVikas\n"
          ]
        },
        {
          "output_type": "execute_result",
          "data": {
            "text/plain": [
              "'sakiV'"
            ],
            "application/vnd.google.colaboratory.intrinsic+json": {
              "type": "string"
            }
          },
          "metadata": {},
          "execution_count": 12
        }
      ]
    },
    {
      "cell_type": "markdown",
      "source": [
        "3. Implement a Python function that takes a list of integers and returns a new list containing the squares of\n",
        "each number"
      ],
      "metadata": {
        "id": "9Db6myUTdPwW"
      }
    },
    {
      "cell_type": "code",
      "source": [
        "def Square(l):\n",
        "  s=[]\n",
        "  for i in l:\n",
        "    s.append(i**2)\n",
        "  return s\n",
        "Square([2,3,4])\n"
      ],
      "metadata": {
        "colab": {
          "base_uri": "https://localhost:8080/"
        },
        "id": "ic_-WtYkaZTm",
        "outputId": "ccc99c89-4fc1-408e-d121-1cda603fec3f"
      },
      "execution_count": null,
      "outputs": [
        {
          "output_type": "execute_result",
          "data": {
            "text/plain": [
              "[4, 9, 16]"
            ]
          },
          "metadata": {},
          "execution_count": 13
        }
      ]
    },
    {
      "cell_type": "markdown",
      "source": [
        " 4. Write a Python function that checks if a given number is prime or not from 1 to 200"
      ],
      "metadata": {
        "id": "2atJ_1heeI7m"
      }
    },
    {
      "cell_type": "code",
      "source": [
        "def fun_prime(a):\n",
        "  for i in range(a):\n",
        "    if i"
      ],
      "metadata": {
        "id": "8BdSGIXOaZVo"
      },
      "execution_count": null,
      "outputs": []
    },
    {
      "cell_type": "markdown",
      "source": [
        "5. Create an iterator class in Python that generates the Fibonacci sequence up to a specified number of\n",
        "terms.\n"
      ],
      "metadata": {
        "id": "rILIorP6fLuU"
      }
    },
    {
      "cell_type": "code",
      "source": [
        "Not done in class"
      ],
      "metadata": {
        "id": "bvzBbexcaZcI"
      },
      "execution_count": null,
      "outputs": []
    },
    {
      "cell_type": "markdown",
      "source": [
        "6. Write a generator function in Python that yields the powers of 2 up to a given exponent"
      ],
      "metadata": {
        "id": "GBwf9XtxfSZe"
      }
    },
    {
      "cell_type": "code",
      "source": [
        "def expo_2(exponent):\n",
        "  for i in range(exponent+1):\n",
        "    yield 2**i\n",
        "f=expo_2(3)\n",
        "next(f)\n",
        "next(f)\n",
        "next(f)\n",
        "next(f)"
      ],
      "metadata": {
        "colab": {
          "base_uri": "https://localhost:8080/"
        },
        "id": "fU98dfZ4fcIc",
        "outputId": "99fa8776-8c4e-42f4-93c1-1fd31b752e61"
      },
      "execution_count": null,
      "outputs": [
        {
          "output_type": "execute_result",
          "data": {
            "text/plain": [
              "8"
            ]
          },
          "metadata": {},
          "execution_count": 12
        }
      ]
    },
    {
      "cell_type": "markdown",
      "source": [
        "7. Implement a generator function that reads a file line by line and yields each line as a string."
      ],
      "metadata": {
        "id": "zp75nK8vfdfv"
      }
    },
    {
      "cell_type": "code",
      "source": [
        "not done in class"
      ],
      "metadata": {
        "id": "DksMUrTmfckS"
      },
      "execution_count": null,
      "outputs": []
    },
    {
      "cell_type": "code",
      "source": [],
      "metadata": {
        "id": "JnW7f4W5fcnz"
      },
      "execution_count": null,
      "outputs": []
    },
    {
      "cell_type": "markdown",
      "source": [
        " 8. Use a lambda function in Python to sort a list of tuples based on the second element of each tuple."
      ],
      "metadata": {
        "id": "gN6qT2FGfkS0"
      }
    },
    {
      "cell_type": "code",
      "source": [
        "a=[(222,3),(34,56),(34,22)]\n",
        "list(sorted(a,key=lambda x:x[1]))"
      ],
      "metadata": {
        "colab": {
          "base_uri": "https://localhost:8080/"
        },
        "id": "UuPLtydQfcp9",
        "outputId": "39b57015-2845-47ae-ed25-cd41071daaf9"
      },
      "execution_count": null,
      "outputs": [
        {
          "output_type": "execute_result",
          "data": {
            "text/plain": [
              "[(222, 3), (34, 22), (34, 56)]"
            ]
          },
          "metadata": {},
          "execution_count": 24
        }
      ]
    },
    {
      "cell_type": "markdown",
      "source": [
        "9. Write a Python program that uses `map()` to convert a list of temperatures from Celsius to Fahrenheit."
      ],
      "metadata": {
        "id": "GaBWjpCbIgzv"
      }
    },
    {
      "cell_type": "code",
      "source": [
        "def temp(l):\n",
        "  return (l*9/5)+32\n",
        "l=[22,34,55]\n",
        "list(map(temp,l))"
      ],
      "metadata": {
        "colab": {
          "base_uri": "https://localhost:8080/"
        },
        "id": "_PcVe4arfcv7",
        "outputId": "7526f8e7-ad3d-49f5-e36f-d687ce002550"
      },
      "execution_count": null,
      "outputs": [
        {
          "output_type": "execute_result",
          "data": {
            "text/plain": [
              "[71.6, 93.2, 131.0]"
            ]
          },
          "metadata": {},
          "execution_count": 34
        }
      ]
    },
    {
      "cell_type": "code",
      "source": [],
      "metadata": {
        "id": "zaLub7sQfc0X"
      },
      "execution_count": null,
      "outputs": []
    },
    {
      "cell_type": "markdown",
      "source": [
        " 10. Create a Python program that uses `filter()` to remove all the vowels from a given string."
      ],
      "metadata": {
        "id": "Uq02CFKkLwfE"
      }
    },
    {
      "cell_type": "code",
      "source": [
        "def vowel(char):\n",
        "  v=\"AEIOUaeiou\"\n",
        "  return char not in v\n",
        "statement=\"Hey, How are you?\"\n",
        "f=''.join(filter(vowel,statement))\n",
        "print(f)\n"
      ],
      "metadata": {
        "colab": {
          "base_uri": "https://localhost:8080/"
        },
        "id": "kyDEIV8LLyRG",
        "outputId": "b82237e9-bd4c-42af-88ea-ee21fc2d342f"
      },
      "execution_count": null,
      "outputs": [
        {
          "output_type": "stream",
          "name": "stdout",
          "text": [
            "Hy, Hw r y?\n"
          ]
        }
      ]
    },
    {
      "cell_type": "code",
      "source": [],
      "metadata": {
        "id": "Dtp9eUbNLyUD"
      },
      "execution_count": null,
      "outputs": []
    },
    {
      "cell_type": "code",
      "source": [],
      "metadata": {
        "id": "75fkCAUULyXJ"
      },
      "execution_count": null,
      "outputs": []
    },
    {
      "cell_type": "code",
      "source": [],
      "metadata": {
        "id": "ryN-yOoZLyzF"
      },
      "execution_count": null,
      "outputs": []
    }
  ]
}